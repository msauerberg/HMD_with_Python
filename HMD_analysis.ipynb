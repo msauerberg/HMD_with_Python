{
 "cells": [
  {
   "cell_type": "code",
   "execution_count": 264,
   "id": "c7a936a2",
   "metadata": {},
   "outputs": [],
   "source": [
    "import pandas as pd\n",
    "import os\n",
    "import csv"
   ]
  },
  {
   "cell_type": "code",
   "execution_count": 265,
   "id": "c5ffd12c",
   "metadata": {},
   "outputs": [],
   "source": [
    "def convert_HMD_to_csv(myPath, myFile):\n",
    "    \n",
    "    MyFile = os.path.join(myPath, myFile)\n",
    "    OutFile = myFile[:-3] + \"csv\"\n",
    "        \n",
    "    with open(MyFile) as f:\n",
    "        HMDfile = f.readlines()[2:]\n",
    "    \n",
    "    with open(os.path.join(myPath, OutFile), \"w\") as csv_file:\n",
    "        writer = csv.writer(csv_file)            \n",
    "        for i in range(0, len(HMDfile)):\n",
    "            writer.writerow(HMDfile[i].split())\n",
    "    \n",
    "convert_HMD_to_csv(myPath = \"C:/LearnPython/\", myFile = \"Deaths_1x1.txt\")\n",
    "convert_HMD_to_csv(myPath = \"C:/LearnPython/\", myFile = \"Exposures_1x1.txt\")"
   ]
  },
  {
   "cell_type": "code",
   "execution_count": 266,
   "id": "dcdf5b67",
   "metadata": {},
   "outputs": [],
   "source": [
    "def wide_to_long(myPath, wideFile):\n",
    "    \n",
    "    readFile = os.path.join(myPath, wideFile)\n",
    "    Name = wideFile.split(\"_\")[0]\n",
    "    dta = pd.read_csv(readFile)\n",
    "    df = dta.reset_index()\n",
    "    longFile = pd.melt(df, id_vars=['Year', \"Age\"], value_vars=['Female', 'Male', 'Total'],\n",
    "               var_name='Gender', value_name=Name)\n",
    "    return longFile"
   ]
  },
  {
   "cell_type": "code",
   "execution_count": 267,
   "id": "92e42825",
   "metadata": {},
   "outputs": [],
   "source": [
    "Dx = wide_to_long(myPath = \"C:/LearnPython/\", wideFile = \"Deaths_1x1.csv\")\n",
    "Ex = wide_to_long(myPath = \"C:/LearnPython/\", wideFile = \"Exposures_1x1.csv\")\n",
    "Dx_Ex = Dx.merge(Ex, on = [\"Year\", \"Age\", \"Gender\"])"
   ]
  },
  {
   "cell_type": "code",
   "execution_count": 268,
   "id": "168ada9d",
   "metadata": {},
   "outputs": [],
   "source": [
    "Dx_Ex[\"mx\"] = Dx_Ex[\"Deaths\"] / Dx_Ex[\"Exposures\"]\n",
    "Dx_Ex.loc[Dx_Ex[\"Age\"] == \"110+\", \"Age\"] = 110\n",
    "Dx_Ex[\"Age\"] = pd.to_numeric(Dx_Ex[\"Age\"])\n",
    "Dx_Ex[\"mx\"].fillna(0, inplace=True)"
   ]
  },
  {
   "cell_type": "code",
   "execution_count": 269,
   "id": "ca73a0c7",
   "metadata": {},
   "outputs": [
    {
     "data": {
      "text/html": [
       "<div>\n",
       "<style scoped>\n",
       "    .dataframe tbody tr th:only-of-type {\n",
       "        vertical-align: middle;\n",
       "    }\n",
       "\n",
       "    .dataframe tbody tr th {\n",
       "        vertical-align: top;\n",
       "    }\n",
       "\n",
       "    .dataframe thead th {\n",
       "        text-align: right;\n",
       "    }\n",
       "</style>\n",
       "<table border=\"1\" class=\"dataframe\">\n",
       "  <thead>\n",
       "    <tr style=\"text-align: right;\">\n",
       "      <th></th>\n",
       "      <th>Year</th>\n",
       "      <th>Age</th>\n",
       "      <th>Gender</th>\n",
       "      <th>Deaths</th>\n",
       "      <th>Exposures</th>\n",
       "      <th>mx</th>\n",
       "    </tr>\n",
       "  </thead>\n",
       "  <tbody>\n",
       "    <tr>\n",
       "      <th>10318</th>\n",
       "      <td>2020</td>\n",
       "      <td>106</td>\n",
       "      <td>Total</td>\n",
       "      <td>139.17</td>\n",
       "      <td>200.50</td>\n",
       "      <td>0.694115</td>\n",
       "    </tr>\n",
       "    <tr>\n",
       "      <th>10319</th>\n",
       "      <td>2020</td>\n",
       "      <td>107</td>\n",
       "      <td>Total</td>\n",
       "      <td>66.31</td>\n",
       "      <td>95.80</td>\n",
       "      <td>0.692171</td>\n",
       "    </tr>\n",
       "    <tr>\n",
       "      <th>10320</th>\n",
       "      <td>2020</td>\n",
       "      <td>108</td>\n",
       "      <td>Total</td>\n",
       "      <td>31.23</td>\n",
       "      <td>44.18</td>\n",
       "      <td>0.706881</td>\n",
       "    </tr>\n",
       "    <tr>\n",
       "      <th>10321</th>\n",
       "      <td>2020</td>\n",
       "      <td>109</td>\n",
       "      <td>Total</td>\n",
       "      <td>14.52</td>\n",
       "      <td>19.15</td>\n",
       "      <td>0.758225</td>\n",
       "    </tr>\n",
       "    <tr>\n",
       "      <th>10322</th>\n",
       "      <td>2020</td>\n",
       "      <td>110</td>\n",
       "      <td>Total</td>\n",
       "      <td>10.78</td>\n",
       "      <td>11.15</td>\n",
       "      <td>0.966816</td>\n",
       "    </tr>\n",
       "  </tbody>\n",
       "</table>\n",
       "</div>"
      ],
      "text/plain": [
       "       Year  Age Gender  Deaths  Exposures        mx\n",
       "10318  2020  106  Total  139.17     200.50  0.694115\n",
       "10319  2020  107  Total   66.31      95.80  0.692171\n",
       "10320  2020  108  Total   31.23      44.18  0.706881\n",
       "10321  2020  109  Total   14.52      19.15  0.758225\n",
       "10322  2020  110  Total   10.78      11.15  0.966816"
      ]
     },
     "execution_count": 269,
     "metadata": {},
     "output_type": "execute_result"
    }
   ],
   "source": [
    "Dx_Ex.tail()"
   ]
  },
  {
   "cell_type": "code",
   "execution_count": 270,
   "id": "362e0945",
   "metadata": {},
   "outputs": [],
   "source": [
    "def LifeTable(mx, Gender):\n",
    "    \n",
    "    n = len(mx)-1\n",
    "    ax = [0.5] * n\n",
    "    \n",
    "    if any(g == \"Female\" for g in Gender):\n",
    "        ax = [0.14] + ax\n",
    "    \n",
    "    else:\n",
    "        ax = [0.13] + ax\n",
    "    \n",
    "    qx = np.array(mx)/(1+(1-np.array(ax))*np.array(mx))\n",
    "    qx[len(qx)-1] = 1\n",
    "    qx[qx > 1] = 1\n",
    "    px = 1-qx\n",
    "    lx = np.cumprod(px) * 100000\n",
    "    lx = np.concatenate(([100000], lx[:-1]))\n",
    "    dx = -np.diff(lx)\n",
    "    dx = np.concatenate((dx, [lx[len(lx)-1]]))\n",
    "    Lx1 = lx[1:] + np.array(ax[:-1]) * dx[:-1]\n",
    "    \n",
    "    if np.array(mx)[-1] == 0:\n",
    "        open_Lx = 0\n",
    "    else:    \n",
    "        open_Lx =  dx[-1] / np.array(mx)[-1]\n",
    "    \n",
    "    Lx = np.concatenate((Lx1, [open_Lx]))\n",
    "    Tx = np.cumsum(Lx[::-1])\n",
    "    Tx = Tx[::-1]\n",
    "    ex = Tx/lx\n",
    "    \n",
    "    return ex[0]"
   ]
  },
  {
   "cell_type": "code",
   "execution_count": 271,
   "id": "95d36ee3",
   "metadata": {
    "scrolled": true
   },
   "outputs": [
    {
     "name": "stderr",
     "output_type": "stream",
     "text": [
      "C:\\Users\\Markus\\AppData\\Local\\Temp\\ipykernel_21992\\3379151358.py:30: RuntimeWarning: invalid value encountered in divide\n",
      "  ex = Tx/lx\n"
     ]
    }
   ],
   "source": [
    "output = Dx_Ex.groupby([\"Year\", \"Gender\"]).apply(lambda x: LifeTable(x[\"mx\"], x[\"Gender\"]))"
   ]
  },
  {
   "cell_type": "code",
   "execution_count": 272,
   "id": "41c6dfd5",
   "metadata": {},
   "outputs": [
    {
     "data": {
      "text/html": [
       "<div>\n",
       "<style scoped>\n",
       "    .dataframe tbody tr th:only-of-type {\n",
       "        vertical-align: middle;\n",
       "    }\n",
       "\n",
       "    .dataframe tbody tr th {\n",
       "        vertical-align: top;\n",
       "    }\n",
       "\n",
       "    .dataframe thead th {\n",
       "        text-align: right;\n",
       "    }\n",
       "</style>\n",
       "<table border=\"1\" class=\"dataframe\">\n",
       "  <thead>\n",
       "    <tr style=\"text-align: right;\">\n",
       "      <th></th>\n",
       "      <th>Year</th>\n",
       "      <th>Gender</th>\n",
       "      <th>e0</th>\n",
       "    </tr>\n",
       "  </thead>\n",
       "  <tbody>\n",
       "    <tr>\n",
       "      <th>0</th>\n",
       "      <td>1990</td>\n",
       "      <td>Female</td>\n",
       "      <td>78.423973</td>\n",
       "    </tr>\n",
       "    <tr>\n",
       "      <th>1</th>\n",
       "      <td>1990</td>\n",
       "      <td>Male</td>\n",
       "      <td>71.910877</td>\n",
       "    </tr>\n",
       "    <tr>\n",
       "      <th>2</th>\n",
       "      <td>1990</td>\n",
       "      <td>Total</td>\n",
       "      <td>75.350928</td>\n",
       "    </tr>\n",
       "    <tr>\n",
       "      <th>3</th>\n",
       "      <td>1991</td>\n",
       "      <td>Female</td>\n",
       "      <td>78.689974</td>\n",
       "    </tr>\n",
       "    <tr>\n",
       "      <th>4</th>\n",
       "      <td>1991</td>\n",
       "      <td>Male</td>\n",
       "      <td>72.094956</td>\n",
       "    </tr>\n",
       "  </tbody>\n",
       "</table>\n",
       "</div>"
      ],
      "text/plain": [
       "   Year  Gender         e0\n",
       "0  1990  Female  78.423973\n",
       "1  1990    Male  71.910877\n",
       "2  1990   Total  75.350928\n",
       "3  1991  Female  78.689974\n",
       "4  1991    Male  72.094956"
      ]
     },
     "execution_count": 272,
     "metadata": {},
     "output_type": "execute_result"
    }
   ],
   "source": [
    "df = output.to_frame().reset_index()\n",
    "df = df.rename(columns={0 : 'e0'})\n",
    "df.head()"
   ]
  },
  {
   "cell_type": "code",
   "execution_count": 273,
   "id": "7586d3de",
   "metadata": {},
   "outputs": [
    {
     "data": {
      "image/png": "[encoded data removed]",
      "text/plain": [
       "<Figure size 500x500 with 1 Axes>"
      ]
     },
     "metadata": {},
     "output_type": "display_data"
    }
   ],
   "source": [
    "from matplotlib import pyplot as plt\n",
    "\n",
    "dfplot = df.pivot(index='Year', columns='Gender', values='e0')\n",
    "dfplot.plot(figsize = (5,5))\n",
    "plt.ylabel('Life expectancy at birth (in years)')\n",
    "plt.title(\"Germany from 1990 to 2020\")\n",
    "plt.savefig('C:/LearnPython/e0_Germany1990to2020.png', dpi=800)"
   ]
  }
 ],
 "metadata": {
  "kernelspec": {
   "display_name": "Python 3 (ipykernel)",
   "language": "python",
   "name": "python3"
  },
  "language_info": {
   "codemirror_mode": {
    "name": "ipython",
    "version": 3
   },
   "file_extension": ".py",
   "mimetype": "text/x-python",
   "name": "python",
   "nbconvert_exporter": "python",
   "pygments_lexer": "ipython3",
   "version": "3.11.5"
  }
 },
 "nbformat": 4,
 "nbformat_minor": 5
}
